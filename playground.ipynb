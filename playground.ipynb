{
 "cells": [
  {
   "cell_type": "code",
   "execution_count": 6,
   "metadata": {},
   "outputs": [],
   "source": [
    "import pandas as pd\n",
    "import numpy as np\n",
    "import torch, os\n",
    "from Bio.PDB import PDBParser\n",
    "import warnings\n",
    "from tqdm import tqdm, trange\n",
    "from time import sleep\n",
    "from pathlib import Path\n",
    "import wandb\n",
    "\n",
    "warnings.filterwarnings(\"ignore\")\n",
    "# pip3 install biopython, torch"
   ]
  },
  {
   "cell_type": "code",
   "execution_count": 8,
   "metadata": {},
   "outputs": [
    {
     "data": {
      "text/plain": [
       "<property at 0x107aeaea0>"
      ]
     },
     "execution_count": 8,
     "metadata": {},
     "output_type": "execute_result"
    }
   ],
   "source": [
    "wandb.sdk.wandb_run.Run"
   ]
  },
  {
   "cell_type": "code",
   "execution_count": 5,
   "metadata": {},
   "outputs": [
    {
     "data": {
      "text/plain": [
       "PosixPath('/tmp/ckpts/20241230-124311')"
      ]
     },
     "execution_count": 5,
     "metadata": {},
     "output_type": "execute_result"
    }
   ],
   "source": [
    "from asep.asep.utils.utils import time_stamp\n",
    "\n",
    "Path(\"/tmp/ckpts\").joinpath(\n",
    "            time_stamp()\n",
    "        )"
   ]
  },
  {
   "cell_type": "code",
   "execution_count": 21,
   "metadata": {},
   "outputs": [],
   "source": [
    "proj_dir = \"/Users/mansoor/Documents/GSU/Projects/Antibody-Design/epitope-prediction/\"\n",
    "dataset_dir = os.path.join(proj_dir, \"data/\")\n",
    "\n",
    "asep_data_dir = os.path.join(dataset_dir, \"asep/\")\n",
    "graphs_asep_path = asep_data_dir + \"asepv1_interim_graphs/\"\n",
    "structures_asep_path = asep_data_dir + \"structures/\"\n",
    "ids_asep = os.path.join(asep_data_dir, \"asepv1-AbDb-IDs.txt\")\n",
    "\n",
    "iedb_epi_file_path = dataset_dir + \"iedb/epitope_full_v3.csv\"\n",
    "iedb_ag_file_path = dataset_dir + \"iedb/antigen_full_v3.csv\"\n"
   ]
  },
  {
   "cell_type": "code",
   "execution_count": null,
   "metadata": {},
   "outputs": [],
   "source": [
    "from asep.data.asepv1_dataset import AsEPv1Dataset, EmbeddingConfig\n",
    "\n",
    "# one-hot encoding\n",
    "config = EmbeddingConfig(node_feat_type=\"one-hot\")\n",
    "asepv1_dataset = AsEPv1Dataset(\n",
    "    root=\"/path/to/asep/download/folder\",  # replace with the path to the parent folder of downloaded AsEP\n",
    "    name=\"AsEP\",\n",
    "    embedding_config=config,\n",
    ")\n",
    "\n",
    "# pre-calculated embeddings with AntiBERTy (via igfold) and ESM2\n",
    "config = EmbeddingConfig(\n",
    "    node_feat_type='pre_cal',\n",
    "    ab={\"embedding_model\": \"igfold\"},  # change this \"esm2\" for ESM2 embeddings\n",
    "    ag={\"embedding_model\": \"esm2\"},\n",
    ")\n",
    "asepv1_dataset = AsEPv1Dataset(\n",
    "    root=\"/path/to/asep/download/folder\",   # replace with the path to the parent folder of downloaded AsEP\n",
    "    name=\"AsEP\",\n",
    "    embedding_config=config,\n",
    ")\n",
    "\n",
    "# get i-th graph pair and node labels\n",
    "i = 0\n",
    "graph_pair = asepv1_dataset[i]\n",
    "node_labels_b = graph_pair.y_b  # antibody graph node labels (1 => interface nodes)\n",
    "node_labels_g = graph_pair.y_g  # antigen  graph node labels (1 => interface nodes)\n",
    "\n",
    "# bipartite graph edges\n",
    "edge_index_bg = graph_pair.edge_index_bg  # bipartite graph edge indices between the antibody and antigen graphs of shape (2, E), \n",
    "# 1st col is antibody node indices, 2nd col is antigen node indices"
   ]
  },
  {
   "cell_type": "code",
   "execution_count": 22,
   "metadata": {},
   "outputs": [
    {
     "name": "stdout",
     "output_type": "stream",
     "text": [
      "dict_keys(['abdbid', 'seqres', 'mapping', 'embedding', 'edges', 'stats', 'Nb', 'Ng'])\n"
     ]
    }
   ],
   "source": [
    "# Load the file\n",
    "data = torch.load(graphs_asep_path + '1a14_0P.pt')\n",
    "\n",
    "print(data.keys())"
   ]
  },
  {
   "cell_type": "code",
   "execution_count": 19,
   "metadata": {},
   "outputs": [
    {
     "name": "stdout",
     "output_type": "stream",
     "text": [
      "1a14_0P {'cdr': 60, 'surf': 322, 'epitope': 20, 'epitope2surf_ratio': 0.062112} \n",
      "Num of Ab residues:  60 \n",
      "Num of Ag residues:  322\n"
     ]
    }
   ],
   "source": [
    "print(data[\"abdbid\"], data[\"stats\"], \"\\nNum of Ab residues: \", data[\"Nb\"], \"\\nNum of Ag residues: \", data[\"Ng\"])"
   ]
  },
  {
   "cell_type": "code",
   "execution_count": 11,
   "metadata": {},
   "outputs": [
    {
     "data": {
      "text/plain": [
       "{'ab': OrderedDict([('H',\n",
       "               'QVQLQQSGAELVKPGASVRMSCKASGYTFTNYNMYWVKQSPGQGLEWIGIFYPGNGDTSYNQKFKDKATLTADKSSNTAYMQLSSLTSEDSAVYYCARSGGSYRYDGGFDYWGQGTTVTV'),\n",
       "              ('L',\n",
       "               'DIELTQTTSSLSASLGDRVTISCRASQDISNYLNWYQQNPDGTVKLLIYYTSNLHSEVPSRFSGSGSGTDYSLTISNLEQEDIATYFCQQDFTLPFTFGGGTAA')]),\n",
       " 'ag': {'N': 'RDFNNLTKGLCTINSWHIYGKDNAVRIGEDSDVLVTREPYVSCDPDECRFYALSQGTTIRGKHSNGTIHDRSQYRALISWPLSSPPTVYNSRVECIGWSSTSCHDGKTRMSICISGPNNNASAVIWYNRRPVTEINTWARNILRTQESECVCHNGVCPVVFTDGSATGPAETRIYYFKEGKILKWEPLAGTAKHIEECSCYGERAEITCTCRDNWQGSNRPVIRIDPVAMTHTSQYICSPVLTDNPRPNDPTVGKCNDPYPGNNNNGVKGFSYLDGVNTWLGRTISIASRSGYEMLKVPNALTDDKSKPTQGQTIVLNTDWSGYSGSFMDYWAEGECYRACFYVELIRGRPKEDKVWWTSNSIVSMCSSTEFLGQWDWPDGAKIEYFL'}}"
      ]
     },
     "execution_count": 11,
     "metadata": {},
     "output_type": "execute_result"
    }
   ],
   "source": [
    "data[\"seqres\"]"
   ]
  },
  {
   "cell_type": "code",
   "execution_count": 14,
   "metadata": {},
   "outputs": [
    {
     "data": {
      "text/plain": [
       "{'ab': tensor(indices=tensor([[ 0,  1,  1,  1,  1,  1,  2,  2,  2,  2,  2,  3,  3,  3,\n",
       "                          3,  3,  3,  3,  4,  4,  4,  4,  4,  4,  4,  5,  5,  5,\n",
       "                          5,  5,  5,  5,  5,  6,  6,  6,  6,  6,  6,  6,  6,  6,\n",
       "                          6,  6,  6,  6,  6,  7,  7,  7,  7,  7,  7,  7,  7,  7,\n",
       "                          7,  7,  7,  8,  8,  8,  8,  8,  8,  8,  8,  8,  9,  9,\n",
       "                          9,  9,  9,  9,  9,  9,  9,  9,  9,  9,  9, 10, 10, 10,\n",
       "                         10, 10, 10, 10, 10, 10, 11, 11, 11, 11, 11, 11, 11, 11,\n",
       "                         11, 11, 12, 12, 12, 12, 12, 12, 12, 12, 12, 12, 12, 12,\n",
       "                         12, 12, 13, 13, 13, 13, 13, 13, 13, 13, 13, 14, 14, 14,\n",
       "                         14, 14, 14, 15, 15, 15, 15, 15, 16, 16, 16, 16, 16, 16,\n",
       "                         16, 17, 17, 17, 17, 17, 17, 17, 17, 18, 18, 18, 18, 18,\n",
       "                         18, 19, 19, 19, 19, 20, 20, 20, 20, 20, 20, 20, 20, 20,\n",
       "                         20, 21, 21, 21, 21, 21, 21, 21, 21, 21, 22, 22, 22, 22,\n",
       "                         22, 22, 22, 22, 22, 23, 23, 23, 23, 23, 23, 23, 23, 24,\n",
       "                         24, 24, 24, 24, 24, 24, 24, 25, 25, 25, 25, 25, 25, 25,\n",
       "                         25, 26, 26, 26, 26, 26, 26, 26, 26, 26, 26, 26, 27, 27,\n",
       "                         27, 27, 27, 27, 27, 27, 27, 27, 28, 28, 28, 28, 28, 28,\n",
       "                         28, 29, 29, 29, 29, 29, 29, 29, 29, 29, 29, 30, 30, 30,\n",
       "                         30, 30, 30, 30, 30, 31, 31, 31, 31, 31, 31, 31, 32, 32,\n",
       "                         32, 32, 33, 33, 34, 34, 34, 34, 35, 35, 35, 36, 36, 36,\n",
       "                         36, 37, 37, 37, 37, 38, 38, 38, 38, 38, 38, 38, 38, 38,\n",
       "                         39, 39, 39, 39, 39, 39, 40, 40, 40, 40, 40, 40, 41, 41,\n",
       "                         41, 41, 41, 41, 41, 41, 41, 41, 41, 42, 42, 42, 42, 42,\n",
       "                         42, 42, 42, 42, 43, 43, 43, 43, 43, 43, 44, 44, 44, 44,\n",
       "                         44, 44, 44, 44, 45, 45, 45, 45, 45, 46, 46, 46, 46, 47,\n",
       "                         47, 47, 47, 47, 48, 48, 48, 48, 49, 49, 49, 49, 49, 50,\n",
       "                         50, 50, 51, 51, 51, 51, 51, 51, 51, 51, 52, 52, 52, 52,\n",
       "                         52, 52, 52, 52, 52, 52, 53, 53, 53, 53, 53, 53, 53, 53,\n",
       "                         53, 53, 53, 53, 54, 54, 54, 54, 54, 54, 54, 55, 55, 55,\n",
       "                         55, 55, 55, 56, 56, 56, 56, 57, 57, 57, 57, 57, 58, 58,\n",
       "                         58, 58, 58, 58, 58, 58, 58, 58, 59, 59, 59, 59],\n",
       "                        [ 1,  0,  2,  3,  6,  8,  1,  3,  4,  5,  6,  1,  2,  4,\n",
       "                          5,  6,  8, 13,  2,  3,  5,  6, 12, 13, 14,  2,  3,  4,\n",
       "                          6,  7, 12, 23, 24,  1,  2,  3,  4,  5,  7,  8, 11, 12,\n",
       "                         13, 14, 20, 23, 24,  5,  6,  8,  9, 10, 11, 12, 20, 23,\n",
       "                         24, 25, 26,  1,  3,  6,  7,  9, 10, 11, 12, 13,  7,  8,\n",
       "                         10, 11, 20, 21, 22, 25, 26, 27, 29, 30, 58,  7,  8,  9,\n",
       "                         11, 12, 17, 18, 19, 26,  6,  7,  8,  9, 10, 12, 13, 16,\n",
       "                         17, 18,  4,  5,  6,  7,  8, 10, 11, 13, 14, 15, 16, 17,\n",
       "                         18, 24,  3,  4,  6,  8, 11, 12, 14, 15, 16,  4,  6, 12,\n",
       "                         13, 15, 16, 12, 13, 14, 16, 17, 11, 12, 13, 14, 15, 17,\n",
       "                         18, 10, 11, 12, 15, 16, 18, 19, 26, 10, 11, 12, 16, 17,\n",
       "                         19, 10, 17, 18, 26,  6,  7,  9, 21, 22, 23, 25, 27, 29,\n",
       "                         31,  9, 20, 22, 23, 27, 28, 29, 30, 31,  9, 20, 21, 23,\n",
       "                         24, 25, 27, 28, 29,  5,  6,  7, 20, 21, 22, 24, 25,  5,\n",
       "                          6,  7, 12, 22, 23, 25, 26,  7,  9, 20, 22, 23, 24, 26,\n",
       "                         27,  7,  9, 10, 17, 19, 24, 25, 27, 53, 56, 58,  9, 20,\n",
       "                         21, 22, 25, 26, 28, 29, 41, 53, 21, 22, 27, 29, 30, 31,\n",
       "                         53,  9, 20, 21, 22, 27, 28, 30, 31, 43, 53,  9, 21, 28,\n",
       "                         29, 31, 32, 51, 58, 20, 21, 28, 29, 30, 32, 49, 30, 31,\n",
       "                         49, 50, 34, 35, 33, 35, 36, 38, 33, 34, 36, 34, 35, 37,\n",
       "                         38, 36, 38, 39, 54, 34, 36, 37, 39, 40, 41, 42, 52, 54,\n",
       "                         37, 38, 40, 41, 44, 54, 38, 39, 41, 42, 44, 45, 27, 38,\n",
       "                         39, 40, 42, 43, 44, 51, 52, 53, 54, 38, 40, 41, 43, 44,\n",
       "                         45, 51, 52, 53, 29, 41, 42, 44, 51, 53, 39, 40, 41, 42,\n",
       "                         43, 45, 46, 47, 40, 42, 44, 46, 47, 44, 45, 47, 48, 44,\n",
       "                         45, 46, 48, 49, 46, 47, 49, 50, 31, 32, 47, 48, 50, 32,\n",
       "                         48, 49, 30, 41, 42, 43, 52, 53, 58, 59, 38, 41, 42, 51,\n",
       "                         53, 54, 55, 57, 58, 59, 26, 27, 28, 29, 41, 42, 43, 51,\n",
       "                         52, 54, 55, 58, 37, 38, 39, 41, 52, 53, 55, 52, 53, 54,\n",
       "                         56, 57, 58, 26, 55, 57, 58, 52, 55, 56, 58, 59,  9, 26,\n",
       "                         30, 51, 52, 53, 55, 56, 57, 59, 51, 52, 57, 58]]),\n",
       "        values=tensor([1, 1, 1, 1, 1, 1, 1, 1, 1, 1, 1, 1, 1, 1, 1, 1, 1, 1, 1,\n",
       "                       1, 1, 1, 1, 1, 1, 1, 1, 1, 1, 1, 1, 1, 1, 1, 1, 1, 1, 1,\n",
       "                       1, 1, 1, 1, 1, 1, 1, 1, 1, 1, 1, 1, 1, 1, 1, 1, 1, 1, 1,\n",
       "                       1, 1, 1, 1, 1, 1, 1, 1, 1, 1, 1, 1, 1, 1, 1, 1, 1, 1, 1,\n",
       "                       1, 1, 1, 1, 1, 1, 1, 1, 1, 1, 1, 1, 1, 1, 1, 1, 1, 1, 1,\n",
       "                       1, 1, 1, 1, 1, 1, 1, 1, 1, 1, 1, 1, 1, 1, 1, 1, 1, 1, 1,\n",
       "                       1, 1, 1, 1, 1, 1, 1, 1, 1, 1, 1, 1, 1, 1, 1, 1, 1, 1, 1,\n",
       "                       1, 1, 1, 1, 1, 1, 1, 1, 1, 1, 1, 1, 1, 1, 1, 1, 1, 1, 1,\n",
       "                       1, 1, 1, 1, 1, 1, 1, 1, 1, 1, 1, 1, 1, 1, 1, 1, 1, 1, 1,\n",
       "                       1, 1, 1, 1, 1, 1, 1, 1, 1, 1, 1, 1, 1, 1, 1, 1, 1, 1, 1,\n",
       "                       1, 1, 1, 1, 1, 1, 1, 1, 1, 1, 1, 1, 1, 1, 1, 1, 1, 1, 1,\n",
       "                       1, 1, 1, 1, 1, 1, 1, 1, 1, 1, 1, 1, 1, 1, 1, 1, 1, 1, 1,\n",
       "                       1, 1, 1, 1, 1, 1, 1, 1, 1, 1, 1, 1, 1, 1, 1, 1, 1, 1, 1,\n",
       "                       1, 1, 1, 1, 1, 1, 1, 1, 1, 1, 1, 1, 1, 1, 1, 1, 1, 1, 1,\n",
       "                       1, 1, 1, 1, 1, 1, 1, 1, 1, 1, 1, 1, 1, 1, 1, 1, 1, 1, 1,\n",
       "                       1, 1, 1, 1, 1, 1, 1, 1, 1, 1, 1, 1, 1, 1, 1, 1, 1, 1, 1,\n",
       "                       1, 1, 1, 1, 1, 1, 1, 1, 1, 1, 1, 1, 1, 1, 1, 1, 1, 1, 1,\n",
       "                       1, 1, 1, 1, 1, 1, 1, 1, 1, 1, 1, 1, 1, 1, 1, 1, 1, 1, 1,\n",
       "                       1, 1, 1, 1, 1, 1, 1, 1, 1, 1, 1, 1, 1, 1, 1, 1, 1, 1, 1,\n",
       "                       1, 1, 1, 1, 1, 1, 1, 1, 1, 1, 1, 1, 1, 1, 1, 1, 1, 1, 1,\n",
       "                       1, 1, 1, 1, 1, 1, 1, 1, 1, 1, 1, 1, 1, 1, 1, 1, 1, 1, 1,\n",
       "                       1, 1, 1, 1, 1, 1, 1, 1, 1, 1, 1, 1, 1, 1, 1, 1, 1, 1, 1,\n",
       "                       1, 1, 1, 1, 1, 1, 1, 1, 1, 1, 1, 1, 1, 1]),\n",
       "        size=(60, 60), nnz=432, dtype=torch.int8, layout=torch.sparse_coo),\n",
       " 'ag': tensor(indices=tensor([[  0,   0,   0,  ..., 321, 321, 321],\n",
       "                        [  1,   2,  40,  ..., 318, 319, 320]]),\n",
       "        values=tensor([1, 1, 1,  ..., 1, 1, 1]),\n",
       "        size=(322, 322), nnz=2496, dtype=torch.int8, layout=torch.sparse_coo),\n",
       " 'bipartite': tensor(indices=tensor([[ 12,  12,  15,  15,  15,  15,  15,  17,  17,  17,  18,\n",
       "                          19,  24,  24,  26,  26,  26,  26,  27,  39,  39,  41,\n",
       "                          41,  53,  54,  54,  54,  54,  54,  55,  55,  55,  56,\n",
       "                          56,  56],\n",
       "                        [260, 261, 239, 260, 261, 262, 263, 237, 263, 289, 289,\n",
       "                         236, 233, 260, 204, 234, 235, 236, 204, 206, 207, 204,\n",
       "                         205, 204, 203, 204, 215, 216, 217, 203, 217, 218, 218,\n",
       "                         235, 236]]),\n",
       "        values=tensor([1, 1, 1, 1, 1, 1, 1, 1, 1, 1, 1, 1, 1, 1, 1, 1, 1, 1, 1,\n",
       "                       1, 1, 1, 1, 1, 1, 1, 1, 1, 1, 1, 1, 1, 1, 1, 1]),\n",
       "        size=(60, 322), nnz=35, dtype=torch.int8, layout=torch.sparse_coo)}"
      ]
     },
     "execution_count": 14,
     "metadata": {},
     "output_type": "execute_result"
    }
   ],
   "source": [
    "data[\"edges\"]"
   ]
  },
  {
   "cell_type": "code",
   "execution_count": 13,
   "metadata": {},
   "outputs": [
    {
     "data": {
      "text/plain": [
       "{'ab': {'seqres2cdr': array([0, 0, 0, 0, 0, 0, 0, 0, 0, 0, 0, 0, 0, 0, 0, 0, 0, 0, 0, 0, 0, 0,\n",
       "         0, 0, 0, 1, 1, 1, 1, 1, 1, 1, 1, 1, 1, 0, 0, 0, 0, 0, 0, 0, 0, 0,\n",
       "         0, 0, 0, 0, 0, 1, 1, 1, 1, 1, 1, 1, 1, 1, 1, 0, 0, 0, 0, 0, 0, 0,\n",
       "         0, 0, 0, 0, 0, 0, 0, 0, 0, 0, 0, 0, 0, 0, 0, 0, 0, 0, 0, 0, 0, 0,\n",
       "         0, 0, 0, 0, 0, 0, 0, 0, 0, 0, 1, 1, 1, 1, 1, 1, 1, 1, 1, 1, 1, 1,\n",
       "         1, 0, 0, 0, 0, 0, 0, 0, 0, 0, 0, 0, 0, 0, 0, 0, 0, 0, 0, 0, 0, 0,\n",
       "         0, 0, 0, 0, 0, 0, 0, 0, 0, 0, 0, 1, 1, 1, 1, 1, 1, 1, 1, 1, 1, 1,\n",
       "         0, 0, 0, 0, 0, 0, 0, 0, 0, 0, 0, 0, 0, 0, 0, 1, 1, 1, 1, 1, 1, 1,\n",
       "         0, 0, 0, 0, 0, 0, 0, 0, 0, 0, 0, 0, 0, 0, 0, 0, 0, 0, 0, 0, 0, 0,\n",
       "         0, 0, 0, 0, 0, 0, 0, 0, 0, 0, 1, 1, 1, 1, 1, 1, 1, 1, 1, 0, 0, 0,\n",
       "         0, 0, 0, 0])},\n",
       " 'ag': {'seqres2surf': array([1, 1, 1, 1, 1, 1, 1, 1, 1, 1, 1, 1, 1, 1, 1, 1, 1, 1, 1, 1, 1, 1,\n",
       "         1, 1, 1, 1, 1, 0, 1, 1, 1, 1, 1, 1, 0, 1, 1, 1, 0, 0, 1, 1, 1, 1,\n",
       "         1, 1, 1, 1, 1, 0, 0, 0, 0, 1, 1, 1, 1, 1, 1, 1, 1, 1, 1, 1, 1, 1,\n",
       "         1, 1, 1, 1, 1, 1, 1, 1, 1, 1, 0, 1, 0, 0, 1, 1, 1, 1, 1, 0, 1, 1,\n",
       "         1, 1, 1, 1, 1, 1, 1, 1, 1, 1, 0, 0, 0, 0, 1, 1, 1, 0, 1, 1, 1, 1,\n",
       "         1, 0, 0, 0, 1, 1, 1, 1, 1, 1, 0, 1, 0, 1, 0, 1, 1, 1, 1, 1, 1, 1,\n",
       "         1, 1, 1, 1, 1, 1, 1, 1, 1, 1, 0, 1, 1, 1, 1, 0, 1, 1, 1, 1, 1, 1,\n",
       "         0, 1, 1, 1, 0, 1, 0, 1, 0, 1, 1, 1, 1, 1, 1, 1, 1, 1, 1, 0, 1, 0,\n",
       "         1, 1, 1, 1, 1, 1, 1, 1, 1, 1, 1, 1, 1, 1, 1, 1, 1, 1, 0, 1, 1, 1,\n",
       "         0, 1, 0, 0, 1, 1, 1, 1, 1, 1, 0, 0, 0, 1, 0, 1, 1, 1, 1, 1, 1, 1,\n",
       "         0, 1, 0, 1, 1, 1, 1, 1, 1, 1, 1, 1, 1, 1, 1, 0, 1, 1, 1, 0, 1, 1,\n",
       "         1, 0, 1, 1, 1, 1, 1, 1, 1, 1, 1, 1, 1, 1, 1, 1, 1, 1, 1, 1, 1, 1,\n",
       "         1, 1, 0, 1, 0, 0, 0, 1, 0, 1, 1, 1, 1, 1, 1, 0, 1, 0, 1, 1, 1, 1,\n",
       "         1, 1, 1, 1, 1, 0, 1, 1, 0, 1, 1, 0, 1, 1, 0, 1, 1, 1, 1, 1, 1, 1,\n",
       "         1, 1, 1, 1, 1, 1, 0, 0, 1, 1, 1, 1, 1, 1, 1, 1, 1, 0, 1, 1, 1, 1,\n",
       "         1, 1, 1, 1, 1, 1, 1, 1, 1, 1, 1, 0, 1, 0, 0, 0, 1, 1, 1, 1, 1, 1,\n",
       "         1, 1, 1, 1, 1, 1, 1, 1, 1, 0, 0, 0, 0, 1, 1, 1, 1, 1, 1, 1, 1, 1,\n",
       "         1, 1, 1, 1, 1, 1, 1, 1, 1, 1, 1, 1, 1, 1]),\n",
       "  'seqres2epitope': array([0, 0, 0, 0, 0, 0, 0, 0, 0, 0, 0, 0, 0, 0, 0, 0, 0, 0, 0, 0, 0, 0,\n",
       "         0, 0, 0, 0, 0, 0, 0, 0, 0, 0, 0, 0, 0, 0, 0, 0, 0, 0, 0, 0, 0, 0,\n",
       "         0, 0, 0, 0, 0, 0, 0, 0, 0, 0, 0, 0, 0, 0, 0, 0, 0, 0, 0, 0, 0, 0,\n",
       "         0, 0, 0, 0, 0, 0, 0, 0, 0, 0, 0, 0, 0, 0, 0, 0, 0, 0, 0, 0, 0, 0,\n",
       "         0, 0, 0, 0, 0, 0, 0, 0, 0, 0, 0, 0, 0, 0, 0, 0, 0, 0, 0, 0, 0, 0,\n",
       "         0, 0, 0, 0, 0, 0, 0, 0, 0, 0, 0, 0, 0, 0, 0, 0, 0, 0, 0, 0, 0, 0,\n",
       "         0, 0, 0, 0, 0, 0, 0, 0, 0, 0, 0, 0, 0, 0, 0, 0, 0, 0, 0, 0, 0, 0,\n",
       "         0, 0, 0, 0, 0, 0, 0, 0, 0, 0, 0, 0, 0, 0, 0, 0, 0, 0, 0, 0, 0, 0,\n",
       "         0, 0, 0, 0, 0, 0, 0, 0, 0, 0, 0, 0, 0, 0, 0, 0, 0, 0, 0, 0, 0, 0,\n",
       "         0, 0, 0, 0, 0, 0, 0, 0, 0, 0, 0, 0, 0, 0, 0, 0, 0, 0, 0, 0, 0, 0,\n",
       "         0, 0, 0, 0, 0, 0, 0, 0, 0, 0, 0, 0, 0, 0, 0, 0, 0, 0, 0, 0, 0, 0,\n",
       "         0, 0, 0, 0, 0, 1, 1, 1, 1, 1, 0, 0, 0, 0, 0, 0, 0, 1, 1, 1, 1, 0,\n",
       "         0, 0, 0, 0, 0, 0, 0, 0, 0, 0, 0, 0, 0, 0, 0, 0, 0, 0, 0, 0, 1, 1,\n",
       "         1, 1, 1, 0, 1, 0, 0, 0, 0, 0, 0, 0, 0, 0, 0, 0, 0, 0, 0, 0, 0, 0,\n",
       "         0, 0, 0, 0, 0, 0, 0, 0, 0, 1, 1, 1, 1, 0, 0, 0, 0, 0, 0, 0, 0, 0,\n",
       "         0, 0, 0, 0, 0, 0, 0, 0, 0, 0, 0, 0, 0, 0, 0, 0, 0, 0, 0, 0, 0, 1,\n",
       "         0, 0, 0, 0, 0, 0, 0, 0, 0, 0, 0, 0, 0, 0, 0, 0, 0, 0, 0, 0, 0, 0,\n",
       "         0, 0, 0, 0, 0, 0, 0, 0, 0, 0, 0, 0, 0, 0])}}"
      ]
     },
     "execution_count": 13,
     "metadata": {},
     "output_type": "execute_result"
    }
   ],
   "source": [
    "data[\"mapping\"]"
   ]
  },
  {
   "cell_type": "code",
   "execution_count": null,
   "metadata": {},
   "outputs": [
    {
     "name": "stdout",
     "output_type": "stream",
     "text": [
      "<Structure id=1a14_0P>\n"
     ]
    }
   ],
   "source": [
    "\n",
    "# Create a PDB parser object\n",
    "parser = PDBParser()\n",
    "\n",
    "# Load the PDB file\n",
    "structure = parser.get_structure(\"1a14_0P\", structures_asep_path + \"1a14_0P.pdb\")\n",
    "\n",
    "# Access the structure\n",
    "print(structure)"
   ]
  },
  {
   "cell_type": "code",
   "execution_count": null,
   "metadata": {},
   "outputs": [
    {
     "data": {
      "application/vnd.jupyter.widget-view+json": {
       "model_id": "0d9bc028737144e5ae026e70d824a616",
       "version_major": 2,
       "version_minor": 0
      },
      "text/plain": [
       "NGLWidget()"
      ]
     },
     "metadata": {},
     "output_type": "display_data"
    }
   ],
   "source": [
    "import nglview as nv\n",
    "\n",
    "# Visualize the structure\n",
    "view = nv.show_biopython(structure)\n",
    "view"
   ]
  },
  {
   "cell_type": "code",
   "execution_count": 7,
   "metadata": {},
   "outputs": [
    {
     "name": "stderr",
     "output_type": "stream",
     "text": [
      "/var/folders/kj/vbx4s2zd1v1ff2bc0p2tvy6r0000gn/T/ipykernel_77375/29127954.py:1: DtypeWarning: Columns (3,4,5,6,7,8,17,18,19,20,21,22,23,24,25,26,27,28,29,30,31) have mixed types. Specify dtype option on import or set low_memory=False.\n",
      "  epitope = pd.read_csv(iedb_epi_file_path)\n"
     ]
    },
    {
     "data": {
      "text/html": [
       "<div>\n",
       "<style scoped>\n",
       "    .dataframe tbody tr th:only-of-type {\n",
       "        vertical-align: middle;\n",
       "    }\n",
       "\n",
       "    .dataframe tbody tr th {\n",
       "        vertical-align: top;\n",
       "    }\n",
       "\n",
       "    .dataframe thead th {\n",
       "        text-align: right;\n",
       "    }\n",
       "</style>\n",
       "<table border=\"1\" class=\"dataframe\">\n",
       "  <thead>\n",
       "    <tr style=\"text-align: right;\">\n",
       "      <th></th>\n",
       "      <th>Epitope ID</th>\n",
       "      <th>Epitope</th>\n",
       "      <th>Epitope.1</th>\n",
       "      <th>Epitope.2</th>\n",
       "      <th>Epitope.3</th>\n",
       "      <th>Epitope.4</th>\n",
       "      <th>Epitope.5</th>\n",
       "      <th>Epitope.6</th>\n",
       "      <th>Epitope.7</th>\n",
       "      <th>Epitope.8</th>\n",
       "      <th>...</th>\n",
       "      <th>Related Object.5</th>\n",
       "      <th>Related Object.6</th>\n",
       "      <th>Related Object.7</th>\n",
       "      <th>Related Object.8</th>\n",
       "      <th>Related Object.9</th>\n",
       "      <th>Related Object.10</th>\n",
       "      <th>Related Object.11</th>\n",
       "      <th>Related Object.12</th>\n",
       "      <th>Related Object.13</th>\n",
       "      <th>Related Object.14</th>\n",
       "    </tr>\n",
       "  </thead>\n",
       "  <tbody>\n",
       "    <tr>\n",
       "      <th>0</th>\n",
       "      <td>IEDB IRI</td>\n",
       "      <td>Object Type</td>\n",
       "      <td>Name</td>\n",
       "      <td>Modified Residue(s)</td>\n",
       "      <td>Modifications</td>\n",
       "      <td>Starting Position</td>\n",
       "      <td>Ending Position</td>\n",
       "      <td>IRI</td>\n",
       "      <td>Synonyms</td>\n",
       "      <td>Source Molecule</td>\n",
       "      <td>...</td>\n",
       "      <td>IRI</td>\n",
       "      <td>Synonyms</td>\n",
       "      <td>Source Molecule</td>\n",
       "      <td>Source Molecule IRI</td>\n",
       "      <td>Molecule Parent</td>\n",
       "      <td>Molecule Parent IRI</td>\n",
       "      <td>Source Organism</td>\n",
       "      <td>Source Organism IRI</td>\n",
       "      <td>Species</td>\n",
       "      <td>Species IRI</td>\n",
       "    </tr>\n",
       "    <tr>\n",
       "      <th>1</th>\n",
       "      <td>http://www.iedb.org/epitope/1</td>\n",
       "      <td>Linear peptide</td>\n",
       "      <td>AA + MCM(A1,A2)</td>\n",
       "      <td>A1,A2</td>\n",
       "      <td>Main chain modification</td>\n",
       "      <td>200</td>\n",
       "      <td>201</td>\n",
       "      <td>NaN</td>\n",
       "      <td>NaN</td>\n",
       "      <td>streptokinase, SKase</td>\n",
       "      <td>...</td>\n",
       "      <td>NaN</td>\n",
       "      <td>NaN</td>\n",
       "      <td>NaN</td>\n",
       "      <td>NaN</td>\n",
       "      <td>NaN</td>\n",
       "      <td>NaN</td>\n",
       "      <td>NaN</td>\n",
       "      <td>NaN</td>\n",
       "      <td>NaN</td>\n",
       "      <td>NaN</td>\n",
       "    </tr>\n",
       "    <tr>\n",
       "      <th>2</th>\n",
       "      <td>http://www.iedb.org/epitope/2</td>\n",
       "      <td>Linear peptide</td>\n",
       "      <td>AAAAAAAAAAAAA</td>\n",
       "      <td>NaN</td>\n",
       "      <td>NaN</td>\n",
       "      <td>489</td>\n",
       "      <td>501</td>\n",
       "      <td>NaN</td>\n",
       "      <td>NaN</td>\n",
       "      <td>RNA-binding protein 47</td>\n",
       "      <td>...</td>\n",
       "      <td>NaN</td>\n",
       "      <td>NaN</td>\n",
       "      <td>NaN</td>\n",
       "      <td>NaN</td>\n",
       "      <td>NaN</td>\n",
       "      <td>NaN</td>\n",
       "      <td>NaN</td>\n",
       "      <td>NaN</td>\n",
       "      <td>NaN</td>\n",
       "      <td>NaN</td>\n",
       "    </tr>\n",
       "    <tr>\n",
       "      <th>3</th>\n",
       "      <td>http://www.iedb.org/epitope/3</td>\n",
       "      <td>Linear peptide</td>\n",
       "      <td>AAAAAAAAAAAANANIAAAA</td>\n",
       "      <td>NaN</td>\n",
       "      <td>NaN</td>\n",
       "      <td>NaN</td>\n",
       "      <td>NaN</td>\n",
       "      <td>NaN</td>\n",
       "      <td>NaN</td>\n",
       "      <td>NaN</td>\n",
       "      <td>...</td>\n",
       "      <td>NaN</td>\n",
       "      <td>lpqH</td>\n",
       "      <td>Lipoprotein lpqH precursor</td>\n",
       "      <td>http://www.ncbi.nlm.nih.gov/protein/P0A5J0.1</td>\n",
       "      <td>Lipoprotein LpqH</td>\n",
       "      <td>http://www.uniprot.org/uniprot/P9WK61</td>\n",
       "      <td>Mycobacterium tuberculosis</td>\n",
       "      <td>http://purl.obolibrary.org/obo/NCBITaxon_1773</td>\n",
       "      <td>Mycobacterium tuberculosis</td>\n",
       "      <td>http://purl.obolibrary.org/obo/NCBITaxon_1773</td>\n",
       "    </tr>\n",
       "    <tr>\n",
       "      <th>4</th>\n",
       "      <td>http://www.iedb.org/epitope/4</td>\n",
       "      <td>Linear peptide</td>\n",
       "      <td>AAAAAAAAAAAGNVNIAAAA</td>\n",
       "      <td>NaN</td>\n",
       "      <td>NaN</td>\n",
       "      <td>NaN</td>\n",
       "      <td>NaN</td>\n",
       "      <td>NaN</td>\n",
       "      <td>NaN</td>\n",
       "      <td>NaN</td>\n",
       "      <td>...</td>\n",
       "      <td>NaN</td>\n",
       "      <td>lpqH</td>\n",
       "      <td>Lipoprotein lpqH precursor</td>\n",
       "      <td>http://www.ncbi.nlm.nih.gov/protein/P0A5J0.1</td>\n",
       "      <td>Lipoprotein LpqH</td>\n",
       "      <td>http://www.uniprot.org/uniprot/P9WK61</td>\n",
       "      <td>Mycobacterium tuberculosis</td>\n",
       "      <td>http://purl.obolibrary.org/obo/NCBITaxon_1773</td>\n",
       "      <td>Mycobacterium tuberculosis</td>\n",
       "      <td>http://purl.obolibrary.org/obo/NCBITaxon_1773</td>\n",
       "    </tr>\n",
       "  </tbody>\n",
       "</table>\n",
       "<p>5 rows × 32 columns</p>\n",
       "</div>"
      ],
      "text/plain": [
       "                      Epitope ID         Epitope             Epitope.1  \\\n",
       "0                       IEDB IRI     Object Type                  Name   \n",
       "1  http://www.iedb.org/epitope/1  Linear peptide       AA + MCM(A1,A2)   \n",
       "2  http://www.iedb.org/epitope/2  Linear peptide         AAAAAAAAAAAAA   \n",
       "3  http://www.iedb.org/epitope/3  Linear peptide  AAAAAAAAAAAANANIAAAA   \n",
       "4  http://www.iedb.org/epitope/4  Linear peptide  AAAAAAAAAAAGNVNIAAAA   \n",
       "\n",
       "             Epitope.2                Epitope.3          Epitope.4  \\\n",
       "0  Modified Residue(s)            Modifications  Starting Position   \n",
       "1                A1,A2  Main chain modification                200   \n",
       "2                  NaN                      NaN                489   \n",
       "3                  NaN                      NaN                NaN   \n",
       "4                  NaN                      NaN                NaN   \n",
       "\n",
       "         Epitope.5 Epitope.6 Epitope.7               Epitope.8  ...  \\\n",
       "0  Ending Position       IRI  Synonyms         Source Molecule  ...   \n",
       "1              201       NaN       NaN    streptokinase, SKase  ...   \n",
       "2              501       NaN       NaN  RNA-binding protein 47  ...   \n",
       "3              NaN       NaN       NaN                     NaN  ...   \n",
       "4              NaN       NaN       NaN                     NaN  ...   \n",
       "\n",
       "  Related Object.5 Related Object.6            Related Object.7  \\\n",
       "0              IRI         Synonyms             Source Molecule   \n",
       "1              NaN              NaN                         NaN   \n",
       "2              NaN              NaN                         NaN   \n",
       "3              NaN             lpqH  Lipoprotein lpqH precursor   \n",
       "4              NaN             lpqH  Lipoprotein lpqH precursor   \n",
       "\n",
       "                               Related Object.8  Related Object.9  \\\n",
       "0                           Source Molecule IRI   Molecule Parent   \n",
       "1                                           NaN               NaN   \n",
       "2                                           NaN               NaN   \n",
       "3  http://www.ncbi.nlm.nih.gov/protein/P0A5J0.1  Lipoprotein LpqH   \n",
       "4  http://www.ncbi.nlm.nih.gov/protein/P0A5J0.1  Lipoprotein LpqH   \n",
       "\n",
       "                       Related Object.10           Related Object.11  \\\n",
       "0                    Molecule Parent IRI             Source Organism   \n",
       "1                                    NaN                         NaN   \n",
       "2                                    NaN                         NaN   \n",
       "3  http://www.uniprot.org/uniprot/P9WK61  Mycobacterium tuberculosis   \n",
       "4  http://www.uniprot.org/uniprot/P9WK61  Mycobacterium tuberculosis   \n",
       "\n",
       "                               Related Object.12           Related Object.13  \\\n",
       "0                            Source Organism IRI                     Species   \n",
       "1                                            NaN                         NaN   \n",
       "2                                            NaN                         NaN   \n",
       "3  http://purl.obolibrary.org/obo/NCBITaxon_1773  Mycobacterium tuberculosis   \n",
       "4  http://purl.obolibrary.org/obo/NCBITaxon_1773  Mycobacterium tuberculosis   \n",
       "\n",
       "                               Related Object.14  \n",
       "0                                    Species IRI  \n",
       "1                                            NaN  \n",
       "2                                            NaN  \n",
       "3  http://purl.obolibrary.org/obo/NCBITaxon_1773  \n",
       "4  http://purl.obolibrary.org/obo/NCBITaxon_1773  \n",
       "\n",
       "[5 rows x 32 columns]"
      ]
     },
     "execution_count": 7,
     "metadata": {},
     "output_type": "execute_result"
    }
   ],
   "source": [
    "epitope = pd.read_csv(iedb_epi_file_path)\n",
    "epitope.head()"
   ]
  },
  {
   "cell_type": "code",
   "execution_count": 13,
   "metadata": {},
   "outputs": [
    {
     "data": {
      "text/plain": [
       "(2236698, 32)"
      ]
     },
     "execution_count": 13,
     "metadata": {},
     "output_type": "execute_result"
    }
   ],
   "source": [
    "epitope.shape"
   ]
  },
  {
   "cell_type": "code",
   "execution_count": 18,
   "metadata": {},
   "outputs": [
    {
     "data": {
      "text/html": [
       "<div>\n",
       "<style scoped>\n",
       "    .dataframe tbody tr th:only-of-type {\n",
       "        vertical-align: middle;\n",
       "    }\n",
       "\n",
       "    .dataframe tbody tr th {\n",
       "        vertical-align: top;\n",
       "    }\n",
       "\n",
       "    .dataframe thead th {\n",
       "        text-align: right;\n",
       "    }\n",
       "</style>\n",
       "<table border=\"1\" class=\"dataframe\">\n",
       "  <thead>\n",
       "    <tr style=\"text-align: right;\">\n",
       "      <th></th>\n",
       "      <th>Antigen</th>\n",
       "      <th>Antigen.1</th>\n",
       "      <th>Antigen.2</th>\n",
       "      <th>Antigen.3</th>\n",
       "      <th>Antigen.4</th>\n",
       "      <th>Antigen.5</th>\n",
       "      <th>Antigen.6</th>\n",
       "    </tr>\n",
       "  </thead>\n",
       "  <tbody>\n",
       "    <tr>\n",
       "      <th>0</th>\n",
       "      <td>Antigen Name</td>\n",
       "      <td>Antigen IRI</td>\n",
       "      <td>Organism Name</td>\n",
       "      <td>Organism IRI</td>\n",
       "      <td># Epitopes</td>\n",
       "      <td># Assays</td>\n",
       "      <td># References</td>\n",
       "    </tr>\n",
       "    <tr>\n",
       "      <th>1</th>\n",
       "      <td>Isoform 2 of Glutamine-rich protein 2 (UniProt...</td>\n",
       "      <td>http://www.uniprot.org/uniprot/Q9H0J4-2</td>\n",
       "      <td>Homo sapiens (human)</td>\n",
       "      <td>http://purl.obolibrary.org/obo/NCBITaxon_9606</td>\n",
       "      <td>26</td>\n",
       "      <td>45</td>\n",
       "      <td>7</td>\n",
       "    </tr>\n",
       "    <tr>\n",
       "      <th>2</th>\n",
       "      <td>Exported protein (UniProt:Q0WFC5)</td>\n",
       "      <td>http://www.uniprot.org/uniprot/Q0WFC5</td>\n",
       "      <td>Yersinia pestis</td>\n",
       "      <td>http://purl.obolibrary.org/obo/NCBITaxon_632</td>\n",
       "      <td>1</td>\n",
       "      <td>1</td>\n",
       "      <td>1</td>\n",
       "    </tr>\n",
       "    <tr>\n",
       "      <th>3</th>\n",
       "      <td>Isoform 3 of Glutamine-rich protein 2 (UniProt...</td>\n",
       "      <td>http://www.uniprot.org/uniprot/Q9H0J4-3</td>\n",
       "      <td>Homo sapiens (human)</td>\n",
       "      <td>http://purl.obolibrary.org/obo/NCBITaxon_9606</td>\n",
       "      <td>4</td>\n",
       "      <td>6</td>\n",
       "      <td>2</td>\n",
       "    </tr>\n",
       "    <tr>\n",
       "      <th>4</th>\n",
       "      <td>18 kDa oncosphere antigen (UniProt:E3VWN2)</td>\n",
       "      <td>http://www.uniprot.org/uniprot/E3VWN2</td>\n",
       "      <td>Taenia saginata (beef tapeworm)</td>\n",
       "      <td>http://purl.obolibrary.org/obo/NCBITaxon_6206</td>\n",
       "      <td>1</td>\n",
       "      <td>3</td>\n",
       "      <td>1</td>\n",
       "    </tr>\n",
       "  </tbody>\n",
       "</table>\n",
       "</div>"
      ],
      "text/plain": [
       "                                             Antigen  \\\n",
       "0                                       Antigen Name   \n",
       "1  Isoform 2 of Glutamine-rich protein 2 (UniProt...   \n",
       "2                  Exported protein (UniProt:Q0WFC5)   \n",
       "3  Isoform 3 of Glutamine-rich protein 2 (UniProt...   \n",
       "4         18 kDa oncosphere antigen (UniProt:E3VWN2)   \n",
       "\n",
       "                                 Antigen.1                        Antigen.2  \\\n",
       "0                              Antigen IRI                    Organism Name   \n",
       "1  http://www.uniprot.org/uniprot/Q9H0J4-2             Homo sapiens (human)   \n",
       "2    http://www.uniprot.org/uniprot/Q0WFC5                  Yersinia pestis   \n",
       "3  http://www.uniprot.org/uniprot/Q9H0J4-3             Homo sapiens (human)   \n",
       "4    http://www.uniprot.org/uniprot/E3VWN2  Taenia saginata (beef tapeworm)   \n",
       "\n",
       "                                       Antigen.3   Antigen.4 Antigen.5  \\\n",
       "0                                   Organism IRI  # Epitopes  # Assays   \n",
       "1  http://purl.obolibrary.org/obo/NCBITaxon_9606          26        45   \n",
       "2   http://purl.obolibrary.org/obo/NCBITaxon_632           1         1   \n",
       "3  http://purl.obolibrary.org/obo/NCBITaxon_9606           4         6   \n",
       "4  http://purl.obolibrary.org/obo/NCBITaxon_6206           1         3   \n",
       "\n",
       "      Antigen.6  \n",
       "0  # References  \n",
       "1             7  \n",
       "2             1  \n",
       "3             2  \n",
       "4             1  "
      ]
     },
     "execution_count": 18,
     "metadata": {},
     "output_type": "execute_result"
    }
   ],
   "source": [
    "antigens = pd.read_csv(iedb_ag_file_path)\n",
    "antigens.head()"
   ]
  }
 ],
 "metadata": {
  "kernelspec": {
   "display_name": "Python 3",
   "language": "python",
   "name": "python3"
  },
  "language_info": {
   "codemirror_mode": {
    "name": "ipython",
    "version": 3
   },
   "file_extension": ".py",
   "mimetype": "text/x-python",
   "name": "python",
   "nbconvert_exporter": "python",
   "pygments_lexer": "ipython3",
   "version": "3.9.6"
  }
 },
 "nbformat": 4,
 "nbformat_minor": 2
}
